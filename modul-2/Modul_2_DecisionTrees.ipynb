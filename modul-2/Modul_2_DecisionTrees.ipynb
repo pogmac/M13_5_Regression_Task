{
  "nbformat": 4,
  "nbformat_minor": 0,
  "metadata": {
    "colab": {
      "name": "Modul_2:DecisionTrees.ipynb",
      "provenance": [],
      "collapsed_sections": []
    },
    "kernelspec": {
      "name": "python3",
      "display_name": "Python 3"
    }
  },
  "cells": [
    {
      "cell_type": "code",
      "metadata": {
        "id": "YnkfcJpawYwF",
        "colab_type": "code",
        "colab": {
          "base_uri": "https://localhost:8080/",
          "height": 34
        },
        "outputId": "f1e9a6b9-f94c-4ce3-fe72-5a97beba0ce9"
      },
      "source": [
        "#potrzebne importy\n",
        "from sklearn.datasets import load_iris\n",
        "from sklearn.tree import DecisionTreeClassifier\n",
        "\n",
        "# ładujemy nasze dane\n",
        "# dla uproszczenia używamy tylko 2 cech ( features)\n",
        "iris_data = load_iris(return_X_y=False)\n",
        "X = iris_data.data[:, 0:2]\n",
        "y = iris_data.target\n",
        "\n",
        "# tworzymy klasyfikator Drzewa decyzyjnego\n",
        "tree_clf = DecisionTreeClassifier(max_depth=3, random_state=2)\n",
        "\n",
        "tree_clf.fit(X, y)\n",
        "print(tree_clf.score(X, y))"
      ],
      "execution_count": 15,
      "outputs": [
        {
          "output_type": "stream",
          "text": [
            "0.8133333333333334\n"
          ],
          "name": "stdout"
        }
      ]
    },
    {
      "cell_type": "code",
      "metadata": {
        "id": "9cgjY0DYwkUI",
        "colab_type": "code",
        "colab": {}
      },
      "source": [
        "# zapisywanie drzewa do pliku\n",
        "from sklearn.tree import export_graphviz\n",
        "\n",
        "export_graphviz(tree_clf,\n",
        "                out_file='nasze_drzewo.dot',          # gdzie zapisać\n",
        "                feature_names=iris_data.feature_names[2:], # jakie nazwy features, cech dodać\n",
        "                class_names=iris_data.target_names,        # nazwy klas jakie chcemy przewidywać\n",
        "                rounded=True,                         # dodatkowe parametry\n",
        "                filled=True)"
      ],
      "execution_count": 0,
      "outputs": []
    },
    {
      "cell_type": "code",
      "metadata": {
        "id": "xquTuVUtytl0",
        "colab_type": "code",
        "colab": {}
      },
      "source": [
        "! dot -Tpng nasze_drzewo.dot -o nasze_drzewo.png"
      ],
      "execution_count": 0,
      "outputs": []
    },
    {
      "cell_type": "markdown",
      "metadata": {
        "id": "JQeQ2_xl3CRD",
        "colab_type": "text"
      },
      "source": [
        "Porównanie drzew decyzyjnych z minimalnym ograniczeniem oraz bez ograniczeń"
      ]
    },
    {
      "cell_type": "code",
      "metadata": {
        "id": "cumMwoNQ2718",
        "colab_type": "code",
        "colab": {}
      },
      "source": [
        "# bierzemy wsyzstkie dane z iris dataset\n",
        "X = iris_data.data\n",
        "y = iris_data.target"
      ],
      "execution_count": 0,
      "outputs": []
    },
    {
      "cell_type": "code",
      "metadata": {
        "id": "ICpLsjDSzKzv",
        "colab_type": "code",
        "colab": {
          "base_uri": "https://localhost:8080/",
          "height": 34
        },
        "outputId": "d8ffc1a6-e816-47ab-af10-29d1155cc2de"
      },
      "source": [
        "# tworzymy klasyfikator Drzewa decyzyjnego z ograniczoną głębokością\n",
        "tree_clf = DecisionTreeClassifier(max_depth=3, random_state=42)\n",
        "\n",
        "tree_clf.fit(X, y)\n",
        "print(tree_clf.score(X, y))"
      ],
      "execution_count": 36,
      "outputs": [
        {
          "output_type": "stream",
          "text": [
            "0.9733333333333334\n"
          ],
          "name": "stdout"
        }
      ]
    },
    {
      "cell_type": "code",
      "metadata": {
        "id": "9KD89N2E2n92",
        "colab_type": "code",
        "colab": {
          "base_uri": "https://localhost:8080/",
          "height": 34
        },
        "outputId": "c46da29f-8ac3-4560-a3e9-2ad0f2510780"
      },
      "source": [
        "# tworzymy klasyfikator Drzewa decyzyjnego all inclusive bez ograniczeń\n",
        "tree_clf = DecisionTreeClassifier(random_state=42)\n",
        "\n",
        "tree_clf.fit(X, y)\n",
        "print(tree_clf.score(X, y))\n",
        "\n",
        "# UWAGA WYNIK DOKŁADNOŚCI WYNOSZĄCY 1.0 ZNACZY ŻE NMODEL ULEGA OVERFITTINGOWI"
      ],
      "execution_count": 37,
      "outputs": [
        {
          "output_type": "stream",
          "text": [
            "1.0\n"
          ],
          "name": "stdout"
        }
      ]
    },
    {
      "cell_type": "code",
      "metadata": {
        "id": "cnLHStn72sVy",
        "colab_type": "code",
        "colab": {
          "base_uri": "https://localhost:8080/",
          "height": 52
        },
        "outputId": "667c0d6f-e63c-4138-e0ae-109c43b9c893"
      },
      "source": [
        "# sprawdzanie czy następuje overfitting\n",
        "\n",
        "from sklearn.model_selection import train_test_split\n",
        "\n",
        "X_train, X_test, y_train, y_test = train_test_split(X, y, test_size=0.2, random_state=100)\n",
        "\n",
        "# tworzymy klasyfikator Drzewa decyzyjnego z ograniczoną głębokością\n",
        "tree_clf = DecisionTreeClassifier(max_depth=3, random_state=2)\n",
        "\n",
        "tree_clf.fit(X_train, y_train)\n",
        "print(\" score danych treningowych z ograniczeniem \", tree_clf.score(X_train, y_train))\n",
        "print(\" score danych testowych z ograniczeniem    \", tree_clf.score(X_test, y_test))"
      ],
      "execution_count": 50,
      "outputs": [
        {
          "output_type": "stream",
          "text": [
            " score danych treningowych z ograniczeniem  0.9833333333333333\n",
            " score danych testowych z ograniczeniem     0.9666666666666667\n"
          ],
          "name": "stdout"
        }
      ]
    },
    {
      "cell_type": "code",
      "metadata": {
        "id": "zBKNSlBq3a8k",
        "colab_type": "code",
        "colab": {
          "base_uri": "https://localhost:8080/",
          "height": 52
        },
        "outputId": "d381a9ef-78e7-4dd3-fb59-4ad7fe9a77be"
      },
      "source": [
        "# tworzymy klasyfikator Drzewa decyzyjnego z ograniczoną głębokością\n",
        "tree_clf = DecisionTreeClassifier(random_state=42)\n",
        "\n",
        "tree_clf.fit(X_train, y_train)\n",
        "print(\" score danych treningowych bez ograniczenia \", tree_clf.score(X_train, y_train))\n",
        "print(\" score danych testowych bez ograniczenia    \", tree_clf.score(X_test, y_test))\n",
        "\n",
        "# UWAGA NA JEDYNKI AAAAAAA OVERFITTING PEŁNĄ GĘBĄ"
      ],
      "execution_count": 51,
      "outputs": [
        {
          "output_type": "stream",
          "text": [
            " score danych treningowych bez ograniczenia  1.0\n",
            " score danych testowych bez ograniczenia     0.9666666666666667\n"
          ],
          "name": "stdout"
        }
      ]
    },
    {
      "cell_type": "markdown",
      "metadata": {
        "id": "5fU1nqdM6gLu",
        "colab_type": "text"
      },
      "source": [
        "Przykład podziału na zbiorze moon data"
      ]
    },
    {
      "cell_type": "code",
      "metadata": {
        "id": "WPVu34c_313S",
        "colab_type": "code",
        "colab": {}
      },
      "source": [
        "# tworzenie zbioru danych\n",
        "from sklearn.datasets import make_moons\n",
        "from sklearn.model_selection import train_test_split\n",
        "\n",
        "import matplotlib.pyplot as plt\n",
        "from matplotlib.colors import ListedColormap\n",
        "\n",
        "X, y = make_moons(noise=0.8, random_state=0)\n",
        "\n",
        "# podzial danych na treningowe i testowe\n",
        "X_train, X_test, y_train, y_test = \\\n",
        "    train_test_split(X, y, train_size=.6, random_state=42)"
      ],
      "execution_count": 0,
      "outputs": []
    },
    {
      "cell_type": "code",
      "metadata": {
        "id": "F53yE0pV6euJ",
        "colab_type": "code",
        "colab": {}
      },
      "source": [
        "import matplotlib.pyplot as plt\n",
        "import numpy as np\n",
        "\n",
        "# narysowanie siatki o odpowiednich rozmiarach\n",
        "x_min, x_max = X[:, 0].min() - .5, X[:, 0].max() + .5\n",
        "y_min, y_max = X[:, 1].min() - .5, X[:, 1].max() + .5\n",
        "xx, yy = np.meshgrid(np.arange(x_min, x_max, .02),\n",
        "                      np.arange(y_min, y_max, .02))\n",
        "\n",
        "# metoda do wyrysowania punktów\n",
        "# jak ktoś chce może się zagłebić, ale nie jest to celem tego kursu\n",
        "def plot_dataset(X_train, X_test, y_train, y_test, clf=None, plot_train=True, plot_test=True):\n",
        "\n",
        "  # rysowanie zbioru danych  \n",
        "  cm = plt.cm.RdBu\n",
        "  cm_bright = ListedColormap(['#FF0000', '#0000FF'])\n",
        "  ax = plt.subplot(1, 1, 1)\n",
        "  if plot_test:\n",
        "    ax.set_title(\"Test data\")\n",
        "    X = X_test\n",
        "  else:\n",
        "    ax.set_title(\"Train data\")\n",
        "    X = X_train\n",
        "  \n",
        "  # narysowanie siatki o odpowiednich rozmiarach\n",
        "  x_min, x_max = X[:, 0].min() - .5, X[:, 0].max() + .5\n",
        "  y_min, y_max = X[:, 1].min() - .5, X[:, 1].max() + .5\n",
        "  xx, yy = np.meshgrid(np.arange(x_min, x_max, .02),\n",
        "                        np.arange(y_min, y_max, .02))\n",
        "  \n",
        "  # rysowanie decision boundary dla klsyfikatora\n",
        "  if clf is not None:\n",
        "    plot_colors = \"bry\"\n",
        "    plot_step = 0.02\n",
        "    Z = clf.predict(np.c_[xx.ravel(), yy.ravel()])\n",
        "    Z = Z.reshape(xx.shape)\n",
        "    ax.contourf(xx, yy, Z, cmap=plt.cm.Paired)\n",
        "\n",
        "  # Rysowanie punktów treningowych\n",
        "  if plot_train:\n",
        "    ax.scatter(X_train[:, 0], X_train[:, 1], c=y_train, cmap=plt.cm.Paired,\n",
        "              edgecolors='k',)\n",
        "  # Rysowanie punktów testowych - bardziej przezroczyste\n",
        "  if plot_test:\n",
        "    ax.scatter(X_test[:, 0], X_test[:, 1], c=y_test, cmap=plt.cm.Paired, alpha=0.9,\n",
        "              edgecolors='k')\n",
        "  ax.set_xlim(xx.min(), xx.max())\n",
        "  ax.set_ylim(yy.min(), yy.max())\n",
        "  ax.set_xticks(())\n",
        "  ax.set_yticks(())\n",
        "  return ax"
      ],
      "execution_count": 0,
      "outputs": []
    },
    {
      "cell_type": "code",
      "metadata": {
        "id": "eeLdHAKG6puv",
        "colab_type": "code",
        "colab": {
          "base_uri": "https://localhost:8080/",
          "height": 52
        },
        "outputId": "4802f378-698d-4c88-a548-94dc45047583"
      },
      "source": [
        "# tworzymy klasyfikator Drzewa decyzyjnego z ograniczoną głębokością\n",
        "tree_clf = DecisionTreeClassifier(max_depth=3,  random_state=42)\n",
        "\n",
        "tree_clf.fit(X_train, y_train)\n",
        "print(\" score danych treningowych z ograniczeniem \", tree_clf.score(X_train, y_train))\n",
        "print(\" score danych testowych z ograniczeniem    \", tree_clf.score(X_test, y_test))"
      ],
      "execution_count": 102,
      "outputs": [
        {
          "output_type": "stream",
          "text": [
            " score danych treningowych z ograniczeniem  0.7166666666666667\n",
            " score danych testowych z ograniczeniem     0.6\n"
          ],
          "name": "stdout"
        }
      ]
    },
    {
      "cell_type": "code",
      "metadata": {
        "id": "wcfmdobP7ayn",
        "colab_type": "code",
        "colab": {
          "base_uri": "https://localhost:8080/",
          "height": 297
        },
        "outputId": "148bd596-d126-403a-a264-b75a266967bc"
      },
      "source": [
        "\n",
        "# wyświetlamy jak wygląda podział dla danych treningowych\n",
        "\n",
        "ax = plot_dataset(X_train, X_test, y_train, y_test,clf = tree_clf, plot_test=False)\n",
        "plt.tight_layout()\n",
        "plt.show()"
      ],
      "execution_count": 103,
      "outputs": [
        {
          "output_type": "display_data",
          "data": {
            "image/png": "[encoded data removed]",
            "text/plain": [
              "<Figure size 432x288 with 1 Axes>"
            ]
          },
          "metadata": {
            "tags": []
          }
        }
      ]
    },
    {
      "cell_type": "code",
      "metadata": {
        "id": "cRPxvJRJ7gxn",
        "colab_type": "code",
        "colab": {
          "base_uri": "https://localhost:8080/",
          "height": 297
        },
        "outputId": "f8655555-cf00-4e84-f98a-53bcd47516f9"
      },
      "source": [
        "\n",
        "# wyświetlamy jak wygląda podział dla danych testowych\n",
        "\n",
        "ax = plot_dataset(X_train, X_test, y_train, y_test,clf = tree_clf, plot_train=False)\n",
        "plt.tight_layout()\n",
        "plt.show()"
      ],
      "execution_count": 104,
      "outputs": [
        {
          "output_type": "display_data",
          "data": {
            "image/png": "[encoded data removed]",
            "text/plain": [
              "<Figure size 432x288 with 1 Axes>"
            ]
          },
          "metadata": {
            "tags": []
          }
        }
      ]
    },
    {
      "cell_type": "code",
      "metadata": {
        "id": "QzXWPbLv6v98",
        "colab_type": "code",
        "colab": {
          "base_uri": "https://localhost:8080/",
          "height": 52
        },
        "outputId": "4454205a-092b-4a7d-84af-288245489ec9"
      },
      "source": [
        "# tworzymy klasyfikator Drzewa decyzyjnego bez ograniczenia głebokości\n",
        "tree_clf = DecisionTreeClassifier(random_state=42)\n",
        "\n",
        "tree_clf.fit(X_train, y_train)\n",
        "print(\" score danych treningowych bez ograniczenia \", tree_clf.score(X_train, y_train))\n",
        "print(\" score danych testowych bez ograniczenia    \", tree_clf.score(X_test, y_test))"
      ],
      "execution_count": 105,
      "outputs": [
        {
          "output_type": "stream",
          "text": [
            " score danych treningowych bez ograniczenia  1.0\n",
            " score danych testowych bez ograniczenia     0.675\n"
          ],
          "name": "stdout"
        }
      ]
    },
    {
      "cell_type": "code",
      "metadata": {
        "id": "PE8eWEOO7Co0",
        "colab_type": "code",
        "colab": {
          "base_uri": "https://localhost:8080/",
          "height": 297
        },
        "outputId": "c13e6999-97e9-430f-f4c8-e21a456f168a"
      },
      "source": [
        "\n",
        "# wyświetlamy jak wygląda podział dla danych treningowych\n",
        "\n",
        "ax = plot_dataset(X_train, X_test, y_train, y_test,clf = tree_clf, plot_test=False)\n",
        "plt.tight_layout()\n",
        "plt.show()"
      ],
      "execution_count": 106,
      "outputs": [
        {
          "output_type": "display_data",
          "data": {
            "image/png": "[encoded data removed]",
            "text/plain": [
              "<Figure size 432x288 with 1 Axes>"
            ]
          },
          "metadata": {
            "tags": []
          }
        }
      ]
    },
    {
      "cell_type": "code",
      "metadata": {
        "id": "3HTK6T2U7np_",
        "colab_type": "code",
        "colab": {
          "base_uri": "https://localhost:8080/",
          "height": 297
        },
        "outputId": "64fe1ee5-d2a3-4473-fbda-0fe9f02ab076"
      },
      "source": [
        "\n",
        "# wyświetlamy jak wygląda podział dla danych testowych\n",
        "\n",
        "ax = plot_dataset(X_train, X_test, y_train, y_test,clf = tree_clf, plot_train=False)\n",
        "plt.tight_layout()\n",
        "plt.show()"
      ],
      "execution_count": 107,
      "outputs": [
        {
          "output_type": "display_data",
          "data": {
            "image/png": "[encoded data removed]",
            "text/plain": [
              "<Figure size 432x288 with 1 Axes>"
            ]
          },
          "metadata": {
            "tags": []
          }
        }
      ]
    },
    {
      "cell_type": "code",
      "metadata": {
        "id": "ivUmVdXe7pIi",
        "colab_type": "code",
        "colab": {
          "base_uri": "https://localhost:8080/",
          "height": 52
        },
        "outputId": "707e08bc-97c3-4dad-c1c5-f7d387e0890d"
      },
      "source": [
        "# Idealny wykres\n",
        "\n",
        "# tworzenie zbioru danych\n",
        "from sklearn.datasets import make_moons\n",
        "from sklearn.model_selection import train_test_split\n",
        "\n",
        "import matplotlib.pyplot as plt\n",
        "from matplotlib.colors import ListedColormap\n",
        "\n",
        "X, y = make_moons(noise=0.1, random_state=0)\n",
        "\n",
        "# podzial danych na treningowe i testowe\n",
        "X_train, X_test, y_train, y_test = \\\n",
        "    train_test_split(X, y, train_size=.6, random_state=42)\n",
        "\n",
        "# tworzymy klasyfikator Drzewa decyzyjnego z ograniczoną głębokością\n",
        "tree_clf = DecisionTreeClassifier(min_samples_leaf=4,  random_state=42)\n",
        "\n",
        "tree_clf.fit(X_train, y_train)\n",
        "print(\" score danych treningowych z ograniczeniem \", tree_clf.score(X_train, y_train))\n",
        "print(\" score danych testowych z ograniczeniem    \", tree_clf.score(X_test, y_test))"
      ],
      "execution_count": 109,
      "outputs": [
        {
          "output_type": "stream",
          "text": [
            " score danych treningowych z ograniczeniem  0.9333333333333333\n",
            " score danych testowych z ograniczeniem     0.85\n"
          ],
          "name": "stdout"
        }
      ]
    },
    {
      "cell_type": "code",
      "metadata": {
        "id": "LsP-oI0b-nmT",
        "colab_type": "code",
        "colab": {
          "base_uri": "https://localhost:8080/",
          "height": 297
        },
        "outputId": "2b63ef2e-1ab3-4ee1-8ebe-12bf40e42499"
      },
      "source": [
        "\n",
        "# wyświetlamy jak wygląda podział dla danych treningowych\n",
        "\n",
        "ax = plot_dataset(X_train, X_test, y_train, y_test,clf = tree_clf, plot_test=False)\n",
        "plt.tight_layout()\n",
        "plt.show()"
      ],
      "execution_count": 110,
      "outputs": [
        {
          "output_type": "display_data",
          "data": {
            "image/png": "[encoded data removed]",
            "text/plain": [
              "<Figure size 432x288 with 1 Axes>"
            ]
          },
          "metadata": {
            "tags": []
          }
        }
      ]
    },
    {
      "cell_type": "code",
      "metadata": {
        "id": "VDBiBL8C-rko",
        "colab_type": "code",
        "colab": {
          "base_uri": "https://localhost:8080/",
          "height": 297
        },
        "outputId": "77d199e2-2288-4267-f049-21f0fbbbbc09"
      },
      "source": [
        "\n",
        "# wyświetlamy jak wygląda podział dla danych testowych\n",
        "\n",
        "ax = plot_dataset(X_train, X_test, y_train, y_test,clf = tree_clf, plot_train=False)\n",
        "plt.tight_layout()\n",
        "plt.show()"
      ],
      "execution_count": 111,
      "outputs": [
        {
          "output_type": "display_data",
          "data": {
            "image/png": "[encoded data removed]",
            "text/plain": [
              "<Figure size 432x288 with 1 Axes>"
            ]
          },
          "metadata": {
            "tags": []
          }
        }
      ]
    },
    {
      "cell_type": "code",
      "metadata": {
        "id": "G8hURkAt_CvZ",
        "colab_type": "code",
        "colab": {}
      },
      "source": [
        ""
      ],
      "execution_count": 0,
      "outputs": []
    }
  ]
}